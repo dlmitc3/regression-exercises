{
 "cells": [
  {
   "cell_type": "markdown",
   "id": "2debf538",
   "metadata": {},
   "source": [
    "# **Exercises**\n",
    "\n",
    "Do you work for this exercise in either a jupyter notebook named evaluate within your regression-exercises repository. By the end of this exercise you will also create a python script named evaluate, so the overall deliverables for this exercise are the python script and jupyter notebook both with the name evaluate within your regression-exercises repo.\n",
    "\n"
   ]
  },
  {
   "cell_type": "code",
   "execution_count": 9,
   "id": "ae5880be",
   "metadata": {},
   "outputs": [],
   "source": [
    "import sklearn.preprocessing\n",
    "\n",
    "import warnings\n",
    "warnings.filterwarnings(\"ignore\")\n",
    "\n",
    "import pandas as pd\n",
    "import numpy as np\n",
    "\n",
    "import matplotlib.pyplot as plt\n",
    "import seaborn as sns\n",
    "\n",
    "from sklearn.linear_model import LinearRegression\n",
    "from sklearn.model_selection import train_test_split\n",
    "from scipy.stats import pearsonr, spearmanr\n",
    "\n",
    "from sklearn.preprocessing import MinMaxScaler, RobustScaler, StandardScaler, QuantileTransformer\n",
    "\n",
    "#import my modules\n",
    "import acquire as a\n",
    "import prepare as p\n",
    "import wrangle as w\n",
    "\n",
    "from scipy import stats\n",
    "from sklearn.metrics import mean_squared_error, r2_score, explained_variance_score\n",
    "\n",
    "from sklearn.linear_model import LinearRegression\n",
    "from sklearn.feature_selection import f_regression \n",
    "from math import sqrt\n"
   ]
  },
  {
   "cell_type": "markdown",
   "id": "167ab8c7",
   "metadata": {},
   "source": [
    "**Q1) Load your zillow dataset.**"
   ]
  },
  {
   "cell_type": "code",
   "execution_count": 2,
   "id": "c1600cf8",
   "metadata": {},
   "outputs": [
    {
     "data": {
      "text/html": [
       "<div>\n",
       "<style scoped>\n",
       "    .dataframe tbody tr th:only-of-type {\n",
       "        vertical-align: middle;\n",
       "    }\n",
       "\n",
       "    .dataframe tbody tr th {\n",
       "        vertical-align: top;\n",
       "    }\n",
       "\n",
       "    .dataframe thead th {\n",
       "        text-align: right;\n",
       "    }\n",
       "</style>\n",
       "<table border=\"1\" class=\"dataframe\">\n",
       "  <thead>\n",
       "    <tr style=\"text-align: right;\">\n",
       "      <th></th>\n",
       "      <th>bedroomcnt</th>\n",
       "      <th>bathroomcnt</th>\n",
       "      <th>calculatedfinishedsquarefeet</th>\n",
       "      <th>taxvaluedollarcnt</th>\n",
       "      <th>yearbuilt</th>\n",
       "      <th>taxamount</th>\n",
       "      <th>fips</th>\n",
       "    </tr>\n",
       "  </thead>\n",
       "  <tbody>\n",
       "    <tr>\n",
       "      <th>4</th>\n",
       "      <td>4</td>\n",
       "      <td>2.0</td>\n",
       "      <td>3633.0</td>\n",
       "      <td>296425.0</td>\n",
       "      <td>2005</td>\n",
       "      <td>6941.39</td>\n",
       "      <td>6037</td>\n",
       "    </tr>\n",
       "    <tr>\n",
       "      <th>6</th>\n",
       "      <td>3</td>\n",
       "      <td>4.0</td>\n",
       "      <td>1620.0</td>\n",
       "      <td>847770.0</td>\n",
       "      <td>2011</td>\n",
       "      <td>10244.94</td>\n",
       "      <td>6037</td>\n",
       "    </tr>\n",
       "    <tr>\n",
       "      <th>7</th>\n",
       "      <td>3</td>\n",
       "      <td>2.0</td>\n",
       "      <td>2077.0</td>\n",
       "      <td>646760.0</td>\n",
       "      <td>1926</td>\n",
       "      <td>7924.68</td>\n",
       "      <td>6037</td>\n",
       "    </tr>\n",
       "    <tr>\n",
       "      <th>18</th>\n",
       "      <td>3</td>\n",
       "      <td>1.0</td>\n",
       "      <td>1244.0</td>\n",
       "      <td>169471.0</td>\n",
       "      <td>1950</td>\n",
       "      <td>2532.88</td>\n",
       "      <td>6037</td>\n",
       "    </tr>\n",
       "    <tr>\n",
       "      <th>19</th>\n",
       "      <td>3</td>\n",
       "      <td>2.0</td>\n",
       "      <td>1300.0</td>\n",
       "      <td>233266.0</td>\n",
       "      <td>1950</td>\n",
       "      <td>3110.99</td>\n",
       "      <td>6037</td>\n",
       "    </tr>\n",
       "  </tbody>\n",
       "</table>\n",
       "</div>"
      ],
      "text/plain": [
       "    bedroomcnt  bathroomcnt  calculatedfinishedsquarefeet  taxvaluedollarcnt  \\\n",
       "4            4          2.0                        3633.0           296425.0   \n",
       "6            3          4.0                        1620.0           847770.0   \n",
       "7            3          2.0                        2077.0           646760.0   \n",
       "18           3          1.0                        1244.0           169471.0   \n",
       "19           3          2.0                        1300.0           233266.0   \n",
       "\n",
       "    yearbuilt  taxamount  fips  \n",
       "4        2005    6941.39  6037  \n",
       "6        2011   10244.94  6037  \n",
       "7        1926    7924.68  6037  \n",
       "18       1950    2532.88  6037  \n",
       "19       1950    3110.99  6037  "
      ]
     },
     "execution_count": 2,
     "metadata": {},
     "output_type": "execute_result"
    }
   ],
   "source": [
    "df = w.wrangle_zillow()\n",
    "df.head()"
   ]
  },
  {
   "cell_type": "code",
   "execution_count": 3,
   "id": "3f36ec75",
   "metadata": {},
   "outputs": [
    {
     "name": "stdout",
     "output_type": "stream",
     "text": [
      "(1161886, 7) (497952, 7) (414960, 7)\n"
     ]
    }
   ],
   "source": [
    "train_validate, test = train_test_split(df, test_size=.2, random_state=123)\n",
    "train, validate = train_test_split(train_validate, test_size=.3, random_state=123)\n",
    "print(train.shape, validate.shape, test.shape)"
   ]
  },
  {
   "cell_type": "markdown",
   "id": "9ccfe492",
   "metadata": {},
   "source": [
    "**Q2) Fit a linear regression model (ordinary least squares) and compute yhat, predictions of taxvaluedollarcnt using only calfulatedfinishedsqft.**"
   ]
  },
  {
   "cell_type": "code",
   "execution_count": 4,
   "id": "ef37b95e",
   "metadata": {},
   "outputs": [],
   "source": [
    "df1 = train[['taxvaluedollarcnt', 'calculatedfinishedsquarefeet']]"
   ]
  },
  {
   "cell_type": "code",
   "execution_count": 5,
   "id": "f852316d",
   "metadata": {},
   "outputs": [
    {
     "data": {
      "text/html": [
       "<div>\n",
       "<style scoped>\n",
       "    .dataframe tbody tr th:only-of-type {\n",
       "        vertical-align: middle;\n",
       "    }\n",
       "\n",
       "    .dataframe tbody tr th {\n",
       "        vertical-align: top;\n",
       "    }\n",
       "\n",
       "    .dataframe thead th {\n",
       "        text-align: right;\n",
       "    }\n",
       "</style>\n",
       "<table border=\"1\" class=\"dataframe\">\n",
       "  <thead>\n",
       "    <tr style=\"text-align: right;\">\n",
       "      <th></th>\n",
       "      <th>taxvaluedollarcnt</th>\n",
       "      <th>calculatedfinishedsquarefeet</th>\n",
       "    </tr>\n",
       "  </thead>\n",
       "  <tbody>\n",
       "    <tr>\n",
       "      <th>775411</th>\n",
       "      <td>330163.0</td>\n",
       "      <td>1692.0</td>\n",
       "    </tr>\n",
       "    <tr>\n",
       "      <th>1160935</th>\n",
       "      <td>631368.0</td>\n",
       "      <td>2119.0</td>\n",
       "    </tr>\n",
       "    <tr>\n",
       "      <th>1558975</th>\n",
       "      <td>571105.0</td>\n",
       "      <td>1363.0</td>\n",
       "    </tr>\n",
       "    <tr>\n",
       "      <th>2049378</th>\n",
       "      <td>321859.0</td>\n",
       "      <td>1348.0</td>\n",
       "    </tr>\n",
       "    <tr>\n",
       "      <th>1250609</th>\n",
       "      <td>307370.0</td>\n",
       "      <td>1635.0</td>\n",
       "    </tr>\n",
       "  </tbody>\n",
       "</table>\n",
       "</div>"
      ],
      "text/plain": [
       "         taxvaluedollarcnt  calculatedfinishedsquarefeet\n",
       "775411            330163.0                        1692.0\n",
       "1160935           631368.0                        2119.0\n",
       "1558975           571105.0                        1363.0\n",
       "2049378           321859.0                        1348.0\n",
       "1250609           307370.0                        1635.0"
      ]
     },
     "execution_count": 5,
     "metadata": {},
     "output_type": "execute_result"
    }
   ],
   "source": [
    "df1.head()"
   ]
  },
  {
   "cell_type": "code",
   "execution_count": 6,
   "id": "907d1252",
   "metadata": {},
   "outputs": [
    {
     "data": {
      "text/html": [
       "<div>\n",
       "<style scoped>\n",
       "    .dataframe tbody tr th:only-of-type {\n",
       "        vertical-align: middle;\n",
       "    }\n",
       "\n",
       "    .dataframe tbody tr th {\n",
       "        vertical-align: top;\n",
       "    }\n",
       "\n",
       "    .dataframe thead th {\n",
       "        text-align: right;\n",
       "    }\n",
       "</style>\n",
       "<table border=\"1\" class=\"dataframe\">\n",
       "  <thead>\n",
       "    <tr style=\"text-align: right;\">\n",
       "      <th></th>\n",
       "      <th>taxvaluedollarcnt</th>\n",
       "      <th>calculatedfinishedsquarefeet</th>\n",
       "      <th>yhat_baseline</th>\n",
       "    </tr>\n",
       "  </thead>\n",
       "  <tbody>\n",
       "    <tr>\n",
       "      <th>775411</th>\n",
       "      <td>330163.0</td>\n",
       "      <td>1692.0</td>\n",
       "      <td>1895.158555</td>\n",
       "    </tr>\n",
       "    <tr>\n",
       "      <th>1160935</th>\n",
       "      <td>631368.0</td>\n",
       "      <td>2119.0</td>\n",
       "      <td>1895.158555</td>\n",
       "    </tr>\n",
       "    <tr>\n",
       "      <th>1558975</th>\n",
       "      <td>571105.0</td>\n",
       "      <td>1363.0</td>\n",
       "      <td>1895.158555</td>\n",
       "    </tr>\n",
       "  </tbody>\n",
       "</table>\n",
       "</div>"
      ],
      "text/plain": [
       "         taxvaluedollarcnt  calculatedfinishedsquarefeet  yhat_baseline\n",
       "775411            330163.0                        1692.0    1895.158555\n",
       "1160935           631368.0                        2119.0    1895.158555\n",
       "1558975           571105.0                        1363.0    1895.158555"
      ]
     },
     "execution_count": 6,
     "metadata": {},
     "output_type": "execute_result"
    }
   ],
   "source": [
    "df1['yhat_baseline'] = df['calculatedfinishedsquarefeet'].mean()\n",
    "df1.head(3)"
   ]
  },
  {
   "cell_type": "code",
   "execution_count": 8,
   "id": "4d7a4ee7",
   "metadata": {},
   "outputs": [
    {
     "data": {
      "text/html": [
       "<div>\n",
       "<style scoped>\n",
       "    .dataframe tbody tr th:only-of-type {\n",
       "        vertical-align: middle;\n",
       "    }\n",
       "\n",
       "    .dataframe tbody tr th {\n",
       "        vertical-align: top;\n",
       "    }\n",
       "\n",
       "    .dataframe thead th {\n",
       "        text-align: right;\n",
       "    }\n",
       "</style>\n",
       "<table border=\"1\" class=\"dataframe\">\n",
       "  <thead>\n",
       "    <tr style=\"text-align: right;\">\n",
       "      <th></th>\n",
       "      <th>taxvaluedollarcnt</th>\n",
       "      <th>calculatedfinishedsquarefeet</th>\n",
       "      <th>yhat_baseline</th>\n",
       "      <th>yhat</th>\n",
       "    </tr>\n",
       "  </thead>\n",
       "  <tbody>\n",
       "    <tr>\n",
       "      <th>775411</th>\n",
       "      <td>330163.0</td>\n",
       "      <td>1692.0</td>\n",
       "      <td>1895.158555</td>\n",
       "      <td>1777.448478</td>\n",
       "    </tr>\n",
       "    <tr>\n",
       "      <th>1160935</th>\n",
       "      <td>631368.0</td>\n",
       "      <td>2119.0</td>\n",
       "      <td>1895.158555</td>\n",
       "      <td>2034.990406</td>\n",
       "    </tr>\n",
       "    <tr>\n",
       "      <th>1558975</th>\n",
       "      <td>571105.0</td>\n",
       "      <td>1363.0</td>\n",
       "      <td>1895.158555</td>\n",
       "      <td>1983.463210</td>\n",
       "    </tr>\n",
       "  </tbody>\n",
       "</table>\n",
       "</div>"
      ],
      "text/plain": [
       "         taxvaluedollarcnt  calculatedfinishedsquarefeet  yhat_baseline  \\\n",
       "775411            330163.0                        1692.0    1895.158555   \n",
       "1160935           631368.0                        2119.0    1895.158555   \n",
       "1558975           571105.0                        1363.0    1895.158555   \n",
       "\n",
       "                yhat  \n",
       "775411   1777.448478  \n",
       "1160935  2034.990406  \n",
       "1558975  1983.463210  "
      ]
     },
     "execution_count": 8,
     "metadata": {},
     "output_type": "execute_result"
    }
   ],
   "source": [
    "# generate parameters, i.e. create model\n",
    "ols_model = LinearRegression().fit(df1[['taxvaluedollarcnt']], df1.calculatedfinishedsquarefeet)\n",
    "\n",
    "# compute predictions and add to original dataframe\n",
    "df1['yhat'] = ols_model.predict(df1[['taxvaluedollarcnt']])\n",
    "\n",
    "df1.head(3)\n"
   ]
  },
  {
   "cell_type": "markdown",
   "id": "5a616a2f",
   "metadata": {},
   "source": [
    "**Q3) Plot the residuals for the linear regression model that you made.**"
   ]
  },
  {
   "cell_type": "code",
   "execution_count": 11,
   "id": "99f389c5",
   "metadata": {},
   "outputs": [],
   "source": [
    "# compute residuals\n",
    "df1['residual'] = df1['yhat'] - df1['calculatedfinishedsquarefeet']\n",
    "df1['residual_baseline'] = df1['yhat_baseline'] - df1['calculatedfinishedsquarefeet']\n"
   ]
  },
  {
   "cell_type": "code",
   "execution_count": 12,
   "id": "4034dc04",
   "metadata": {},
   "outputs": [
    {
     "data": {
      "text/html": [
       "<div>\n",
       "<style scoped>\n",
       "    .dataframe tbody tr th:only-of-type {\n",
       "        vertical-align: middle;\n",
       "    }\n",
       "\n",
       "    .dataframe tbody tr th {\n",
       "        vertical-align: top;\n",
       "    }\n",
       "\n",
       "    .dataframe thead th {\n",
       "        text-align: right;\n",
       "    }\n",
       "</style>\n",
       "<table border=\"1\" class=\"dataframe\">\n",
       "  <thead>\n",
       "    <tr style=\"text-align: right;\">\n",
       "      <th></th>\n",
       "      <th>taxvaluedollarcnt</th>\n",
       "      <th>calculatedfinishedsquarefeet</th>\n",
       "      <th>yhat_baseline</th>\n",
       "      <th>yhat</th>\n",
       "      <th>residual</th>\n",
       "      <th>residual_baseline</th>\n",
       "    </tr>\n",
       "  </thead>\n",
       "  <tbody>\n",
       "    <tr>\n",
       "      <th>775411</th>\n",
       "      <td>330163.0</td>\n",
       "      <td>1692.0</td>\n",
       "      <td>1895.158555</td>\n",
       "      <td>1777.448478</td>\n",
       "      <td>85.448478</td>\n",
       "      <td>203.158555</td>\n",
       "    </tr>\n",
       "    <tr>\n",
       "      <th>1160935</th>\n",
       "      <td>631368.0</td>\n",
       "      <td>2119.0</td>\n",
       "      <td>1895.158555</td>\n",
       "      <td>2034.990406</td>\n",
       "      <td>-84.009594</td>\n",
       "      <td>-223.841445</td>\n",
       "    </tr>\n",
       "    <tr>\n",
       "      <th>1558975</th>\n",
       "      <td>571105.0</td>\n",
       "      <td>1363.0</td>\n",
       "      <td>1895.158555</td>\n",
       "      <td>1983.463210</td>\n",
       "      <td>620.463210</td>\n",
       "      <td>532.158555</td>\n",
       "    </tr>\n",
       "    <tr>\n",
       "      <th>2049378</th>\n",
       "      <td>321859.0</td>\n",
       "      <td>1348.0</td>\n",
       "      <td>1895.158555</td>\n",
       "      <td>1770.348237</td>\n",
       "      <td>422.348237</td>\n",
       "      <td>547.158555</td>\n",
       "    </tr>\n",
       "    <tr>\n",
       "      <th>1250609</th>\n",
       "      <td>307370.0</td>\n",
       "      <td>1635.0</td>\n",
       "      <td>1895.158555</td>\n",
       "      <td>1757.959582</td>\n",
       "      <td>122.959582</td>\n",
       "      <td>260.158555</td>\n",
       "    </tr>\n",
       "  </tbody>\n",
       "</table>\n",
       "</div>"
      ],
      "text/plain": [
       "         taxvaluedollarcnt  calculatedfinishedsquarefeet  yhat_baseline  \\\n",
       "775411            330163.0                        1692.0    1895.158555   \n",
       "1160935           631368.0                        2119.0    1895.158555   \n",
       "1558975           571105.0                        1363.0    1895.158555   \n",
       "2049378           321859.0                        1348.0    1895.158555   \n",
       "1250609           307370.0                        1635.0    1895.158555   \n",
       "\n",
       "                yhat    residual  residual_baseline  \n",
       "775411   1777.448478   85.448478         203.158555  \n",
       "1160935  2034.990406  -84.009594        -223.841445  \n",
       "1558975  1983.463210  620.463210         532.158555  \n",
       "2049378  1770.348237  422.348237         547.158555  \n",
       "1250609  1757.959582  122.959582         260.158555  "
      ]
     },
     "execution_count": 12,
     "metadata": {},
     "output_type": "execute_result"
    }
   ],
   "source": [
    "df1.head()"
   ]
  },
  {
   "cell_type": "markdown",
   "id": "de2dd357",
   "metadata": {},
   "source": [
    "viz.evaluation_example5(df, x, df.residual_baseline)\n",
    "viz.evaluation_example5(df, x, df.residual)"
   ]
  },
  {
   "cell_type": "code",
   "execution_count": 13,
   "id": "37c8f720",
   "metadata": {},
   "outputs": [
    {
     "data": {
      "text/html": [
       "<div>\n",
       "<style scoped>\n",
       "    .dataframe tbody tr th:only-of-type {\n",
       "        vertical-align: middle;\n",
       "    }\n",
       "\n",
       "    .dataframe tbody tr th {\n",
       "        vertical-align: top;\n",
       "    }\n",
       "\n",
       "    .dataframe thead th {\n",
       "        text-align: right;\n",
       "    }\n",
       "</style>\n",
       "<table border=\"1\" class=\"dataframe\">\n",
       "  <thead>\n",
       "    <tr style=\"text-align: right;\">\n",
       "      <th></th>\n",
       "      <th>taxvaluedollarcnt</th>\n",
       "      <th>calculatedfinishedsquarefeet</th>\n",
       "      <th>yhat_baseline</th>\n",
       "      <th>yhat</th>\n",
       "      <th>residual</th>\n",
       "      <th>residual_baseline</th>\n",
       "      <th>residual^2</th>\n",
       "      <th>residual_baseline^2</th>\n",
       "    </tr>\n",
       "  </thead>\n",
       "  <tbody>\n",
       "    <tr>\n",
       "      <th>775411</th>\n",
       "      <td>330163.0</td>\n",
       "      <td>1692.0</td>\n",
       "      <td>1895.158555</td>\n",
       "      <td>1777.448478</td>\n",
       "      <td>85.448478</td>\n",
       "      <td>203.158555</td>\n",
       "      <td>7301.442450</td>\n",
       "      <td>41273.398353</td>\n",
       "    </tr>\n",
       "    <tr>\n",
       "      <th>1160935</th>\n",
       "      <td>631368.0</td>\n",
       "      <td>2119.0</td>\n",
       "      <td>1895.158555</td>\n",
       "      <td>2034.990406</td>\n",
       "      <td>-84.009594</td>\n",
       "      <td>-223.841445</td>\n",
       "      <td>7057.611832</td>\n",
       "      <td>50104.992628</td>\n",
       "    </tr>\n",
       "    <tr>\n",
       "      <th>1558975</th>\n",
       "      <td>571105.0</td>\n",
       "      <td>1363.0</td>\n",
       "      <td>1895.158555</td>\n",
       "      <td>1983.463210</td>\n",
       "      <td>620.463210</td>\n",
       "      <td>532.158555</td>\n",
       "      <td>384974.594793</td>\n",
       "      <td>283192.727353</td>\n",
       "    </tr>\n",
       "  </tbody>\n",
       "</table>\n",
       "</div>"
      ],
      "text/plain": [
       "         taxvaluedollarcnt  calculatedfinishedsquarefeet  yhat_baseline  \\\n",
       "775411            330163.0                        1692.0    1895.158555   \n",
       "1160935           631368.0                        2119.0    1895.158555   \n",
       "1558975           571105.0                        1363.0    1895.158555   \n",
       "\n",
       "                yhat    residual  residual_baseline     residual^2  \\\n",
       "775411   1777.448478   85.448478         203.158555    7301.442450   \n",
       "1160935  2034.990406  -84.009594        -223.841445    7057.611832   \n",
       "1558975  1983.463210  620.463210         532.158555  384974.594793   \n",
       "\n",
       "         residual_baseline^2  \n",
       "775411          41273.398353  \n",
       "1160935         50104.992628  \n",
       "1558975        283192.727353  "
      ]
     },
     "execution_count": 13,
     "metadata": {},
     "output_type": "execute_result"
    }
   ],
   "source": [
    "# square each residual value\n",
    "df1['residual^2'] = df1.residual ** 2\n",
    "\n",
    "df1['residual_baseline^2'] = df1.residual_baseline ** 2\n",
    "\n",
    "df1.head(3)\n"
   ]
  },
  {
   "cell_type": "code",
   "execution_count": 14,
   "id": "26f77261",
   "metadata": {},
   "outputs": [
    {
     "name": "stdout",
     "output_type": "stream",
     "text": [
      "SSE =  1852870397904.066\n",
      "SSE - baseline =  2252368212272.5786\n"
     ]
    }
   ],
   "source": [
    "# SSE\n",
    "SSE = sum(df1['residual^2'])\n",
    "SSE_baseline = sum(df1['residual_baseline^2'])\n",
    "\n",
    "print(\"SSE = \", SSE)\n",
    "print(\"SSE - baseline = \", SSE_baseline)\n"
   ]
  },
  {
   "cell_type": "code",
   "execution_count": 15,
   "id": "6fb5a1c1",
   "metadata": {},
   "outputs": [
    {
     "name": "stdout",
     "output_type": "stream",
     "text": [
      "MSE =  1594709.289813343\n",
      "MSE baseline =  1938544.9280502377\n"
     ]
    }
   ],
   "source": [
    "MSE = SSE/len(df1)\n",
    "MSE_baseline = SSE_baseline/len(df1)\n",
    "\n",
    "print(\"MSE = \", MSE)\n",
    "print(\"MSE baseline = \", MSE_baseline)\n"
   ]
  },
  {
   "cell_type": "code",
   "execution_count": 16,
   "id": "eb54ad79",
   "metadata": {},
   "outputs": [
    {
     "name": "stdout",
     "output_type": "stream",
     "text": [
      "RMSE =  1262.81799552166\n",
      "RMSE baseline =  1392.3163893491442\n"
     ]
    }
   ],
   "source": [
    "from math import sqrt\n",
    "RMSE = sqrt(MSE)\n",
    "RMSE_baseline = sqrt(MSE_baseline)\n",
    "\n",
    "print(\"RMSE = \", RMSE)\n",
    "print(\"RMSE baseline = \", RMSE_baseline)\n"
   ]
  },
  {
   "cell_type": "markdown",
   "id": "cad5355c",
   "metadata": {},
   "source": [
    "My modle is working better but is still of by a large sum.  The model does better than having no model at all."
   ]
  },
  {
   "cell_type": "code",
   "execution_count": 18,
   "id": "b3fd9c3a",
   "metadata": {},
   "outputs": [
    {
     "name": "stdout",
     "output_type": "stream",
     "text": [
      "SSE manual == SSE sklearn:  False\n",
      "SSE manual - baseline == SSE sklearn - baseline:  False\n"
     ]
    }
   ],
   "source": [
    "from sklearn.metrics import mean_squared_error\n",
    "\n",
    "SSE2 = mean_squared_error(df1.calculatedfinishedsquarefeet, df1.yhat)*len(df1)\n",
    "SSE2_baseline = mean_squared_error(df1.calculatedfinishedsquarefeet, df1.yhat_baseline)*len(df1)\n",
    "\n",
    "print(\"SSE manual == SSE sklearn: \", SSE == SSE2) \n",
    "print(\"SSE manual - baseline == SSE sklearn - baseline: \", SSE_baseline == SSE2_baseline) \n"
   ]
  },
  {
   "cell_type": "code",
   "execution_count": 19,
   "id": "84aba838",
   "metadata": {},
   "outputs": [
    {
     "name": "stdout",
     "output_type": "stream",
     "text": [
      "MSE manual == MSE sklearn:  False\n",
      "MSE manual - baseline == MSE sklearn - baseline:  False\n"
     ]
    }
   ],
   "source": [
    "MSE2 = mean_squared_error(df1.calculatedfinishedsquarefeet, df1.yhat)\n",
    "\n",
    "MSE2_baseline = mean_squared_error(df1.calculatedfinishedsquarefeet, df1.yhat_baseline)\n",
    "\n",
    "\n",
    "print(\"MSE manual == MSE sklearn: \", MSE == MSE2) \n",
    "print(\"MSE manual - baseline == MSE sklearn - baseline: \", MSE_baseline == MSE2_baseline) \n"
   ]
  },
  {
   "cell_type": "code",
   "execution_count": 20,
   "id": "4644b795",
   "metadata": {},
   "outputs": [
    {
     "name": "stdout",
     "output_type": "stream",
     "text": [
      "RMSE manual == RMSE skearn:  False\n",
      "RMSE manual - baseline == RMSE skearn - baseline:  False\n"
     ]
    }
   ],
   "source": [
    "RMSE2 = sqrt(mean_squared_error(df1.calculatedfinishedsquarefeet, df1.yhat))\n",
    "RMSE2_baseline = sqrt(mean_squared_error(df1.calculatedfinishedsquarefeet, df1.yhat_baseline))\n",
    "\n",
    "print(\"RMSE manual == RMSE skearn: \", RMSE == RMSE2) \n",
    "print(\"RMSE manual - baseline == RMSE skearn - baseline: \", RMSE_baseline == RMSE2_baseline) \n"
   ]
  },
  {
   "cell_type": "code",
   "execution_count": 21,
   "id": "bea137ec",
   "metadata": {},
   "outputs": [
    {
     "name": "stdout",
     "output_type": "stream",
     "text": [
      "  metric   model_error\n",
      "0    SSE  1.852870e+12\n",
      "1    MSE  1.594709e+06\n",
      "2   RMSE  1.262818e+03\n",
      "          metric   model_error\n",
      "0   SSE_baseline  2.252368e+12\n",
      "1   MSE_baseline  1.938545e+06\n",
      "2  RMSE_baseline  1.392316e+03\n"
     ]
    }
   ],
   "source": [
    "df_eval = pd.DataFrame(np.array(['SSE','MSE','RMSE']), columns=['metric'])\n",
    "df_baseline_eval = pd.DataFrame(np.array(['SSE_baseline','MSE_baseline','RMSE_baseline']), columns=['metric'])\n",
    "\n",
    "df_eval['model_error'] = np.array([SSE, MSE, RMSE])\n",
    "df_baseline_eval['model_error'] = np.array([SSE_baseline, MSE_baseline, RMSE_baseline])\n",
    "\n",
    "print(df_eval)\n",
    "print(df_baseline_eval)\n"
   ]
  },
  {
   "cell_type": "markdown",
   "id": "c02b82cf",
   "metadata": {},
   "source": [
    "Draw Conclusions\n",
    "\n",
    "Now, we will use our results to select the best model.\n",
    "\n",
    "We will compare each baseline metric with the respective metrics of the linear regression model to see if our model performs better."
   ]
  },
  {
   "cell_type": "code",
   "execution_count": 22,
   "id": "1febcd6d",
   "metadata": {},
   "outputs": [
    {
     "data": {
      "text/html": [
       "<div>\n",
       "<style scoped>\n",
       "    .dataframe tbody tr th:only-of-type {\n",
       "        vertical-align: middle;\n",
       "    }\n",
       "\n",
       "    .dataframe tbody tr th {\n",
       "        vertical-align: top;\n",
       "    }\n",
       "\n",
       "    .dataframe thead th {\n",
       "        text-align: right;\n",
       "    }\n",
       "</style>\n",
       "<table border=\"1\" class=\"dataframe\">\n",
       "  <thead>\n",
       "    <tr style=\"text-align: right;\">\n",
       "      <th></th>\n",
       "      <th>metric</th>\n",
       "      <th>model_error</th>\n",
       "      <th>error_delta</th>\n",
       "    </tr>\n",
       "  </thead>\n",
       "  <tbody>\n",
       "    <tr>\n",
       "      <th>0</th>\n",
       "      <td>SSE</td>\n",
       "      <td>1.852870e+12</td>\n",
       "      <td>-3.994978e+11</td>\n",
       "    </tr>\n",
       "    <tr>\n",
       "      <th>1</th>\n",
       "      <td>MSE</td>\n",
       "      <td>1.594709e+06</td>\n",
       "      <td>-3.438356e+05</td>\n",
       "    </tr>\n",
       "    <tr>\n",
       "      <th>2</th>\n",
       "      <td>RMSE</td>\n",
       "      <td>1.262818e+03</td>\n",
       "      <td>-1.294984e+02</td>\n",
       "    </tr>\n",
       "  </tbody>\n",
       "</table>\n",
       "</div>"
      ],
      "text/plain": [
       "  metric   model_error   error_delta\n",
       "0    SSE  1.852870e+12 -3.994978e+11\n",
       "1    MSE  1.594709e+06 -3.438356e+05\n",
       "2   RMSE  1.262818e+03 -1.294984e+02"
      ]
     },
     "execution_count": 22,
     "metadata": {},
     "output_type": "execute_result"
    }
   ],
   "source": [
    "df_eval['error_delta'] = df_eval.model_error - df_baseline_eval.model_error\n",
    "df_eval\n"
   ]
  },
  {
   "cell_type": "markdown",
   "id": "fc0d943b",
   "metadata": {},
   "source": [
    "**Evaluate Part 2: Model Significance**"
   ]
  },
  {
   "cell_type": "code",
   "execution_count": 23,
   "id": "8022a7ac",
   "metadata": {},
   "outputs": [],
   "source": [
    "# compute explained sum of squares\n",
    "ESS = sum((df1.yhat - df.calculatedfinishedsquarefeet.mean())**2)\n"
   ]
  },
  {
   "cell_type": "code",
   "execution_count": 25,
   "id": "e8a869f9",
   "metadata": {},
   "outputs": [
    {
     "name": "stdout",
     "output_type": "stream",
     "text": [
      "ESS =  399497814368.00433\n",
      "SSE =  1852870397904.066\n",
      "TSS =  2252368212272.0703\n"
     ]
    }
   ],
   "source": [
    "SSE = df_eval[df_eval.metric=='SSE']['model_error']\n",
    "TSS = ESS + SSE\n",
    "print(\"ESS = \", ESS)\n",
    "print(\"SSE = \", SSE[0])\n",
    "print(\"TSS = \", TSS[0])\n"
   ]
  },
  {
   "cell_type": "code",
   "execution_count": 27,
   "id": "39bd9db3",
   "metadata": {},
   "outputs": [],
   "source": [
    "# add the ESS, SSE, TSS from the model to a dataframe\n",
    "ss = pd.DataFrame(np.array(['SSE','ESS','TSS']), columns=['metric'])\n",
    "ss['model_values'] = np.array([SSE[0], ESS, TSS[0]])\n",
    "\n",
    "# compute and add the baseline values to the dataframe\n",
    "ESS_baseline = sum((df1.yhat_baseline - df1.calculatedfinishedsquarefeet.mean())**2)\n",
    "SSE_baseline = df_baseline_eval[df_baseline_eval.metric=='SSE_baseline']['model_error'][0]\n",
    "TSS_baseline = ESS_baseline + SSE_baseline\n"
   ]
  },
  {
   "cell_type": "code",
   "execution_count": 28,
   "id": "8f480ca1",
   "metadata": {},
   "outputs": [
    {
     "data": {
      "text/html": [
       "<div>\n",
       "<style scoped>\n",
       "    .dataframe tbody tr th:only-of-type {\n",
       "        vertical-align: middle;\n",
       "    }\n",
       "\n",
       "    .dataframe tbody tr th {\n",
       "        vertical-align: top;\n",
       "    }\n",
       "\n",
       "    .dataframe thead th {\n",
       "        text-align: right;\n",
       "    }\n",
       "</style>\n",
       "<table border=\"1\" class=\"dataframe\">\n",
       "  <thead>\n",
       "    <tr style=\"text-align: right;\">\n",
       "      <th></th>\n",
       "      <th>metric</th>\n",
       "      <th>model_values</th>\n",
       "    </tr>\n",
       "  </thead>\n",
       "  <tbody>\n",
       "    <tr>\n",
       "      <th>0</th>\n",
       "      <td>SSE</td>\n",
       "      <td>2.252368e+12</td>\n",
       "    </tr>\n",
       "    <tr>\n",
       "      <th>1</th>\n",
       "      <td>ESS</td>\n",
       "      <td>1.035431e+05</td>\n",
       "    </tr>\n",
       "    <tr>\n",
       "      <th>2</th>\n",
       "      <td>TSS</td>\n",
       "      <td>2.252368e+12</td>\n",
       "    </tr>\n",
       "  </tbody>\n",
       "</table>\n",
       "</div>"
      ],
      "text/plain": [
       "  metric  model_values\n",
       "0    SSE  2.252368e+12\n",
       "1    ESS  1.035431e+05\n",
       "2    TSS  2.252368e+12"
      ]
     },
     "execution_count": 28,
     "metadata": {},
     "output_type": "execute_result"
    }
   ],
   "source": [
    "ss['model_values'] = np.array([SSE_baseline, ESS_baseline, TSS_baseline])\n",
    "\n",
    "ss\n"
   ]
  },
  {
   "cell_type": "code",
   "execution_count": 29,
   "id": "d7b59330",
   "metadata": {},
   "outputs": [
    {
     "name": "stdout",
     "output_type": "stream",
     "text": [
      "R-squared =  0    0.177\n",
      "Name: model_error, dtype: float64\n",
      "Percent of variance in y explained by x =  0    17.7\n",
      "Name: model_error, dtype: float64 %\n"
     ]
    }
   ],
   "source": [
    "R2 = ESS/TSS\n",
    "print('R-squared = ',round(R2,3))\n",
    "print(\"Percent of variance in y explained by x = \", round(R2*100,1), \"%\")\n"
   ]
  },
  {
   "cell_type": "code",
   "execution_count": 31,
   "id": "3195ffb4",
   "metadata": {},
   "outputs": [
    {
     "name": "stdout",
     "output_type": "stream",
     "text": [
      "Explained Variance =  0.177\n"
     ]
    }
   ],
   "source": [
    "# sklearn.metrics.explained_variance_score\n",
    "\n",
    "evs = explained_variance_score(df1.calculatedfinishedsquarefeet, df1.yhat)\n",
    "print('Explained Variance = ', round(evs,3))\n"
   ]
  },
  {
   "cell_type": "markdown",
   "id": "02c29cc3",
   "metadata": {},
   "source": [
    "Calculate the sum of squared errors, explained sum of squares, total sum of squares, mean squared error, and root mean squared error for your model.\n",
    "\n",
    "Calculate the sum of squared errors, mean squared error, and root mean squared error for the baseline model (i.e. a model that always predicts the average taxvaluedollarcnt amount).\n",
    "\n",
    "Write python code that compares the sum of squared errors for your model against the sum of squared errors for the baseline model and outputs whether or not your model performs better than the baseline model.\n",
    "\n",
    "What is the amount of variance explained in your model?\n",
    "\n",
    "Is your model better than the baseline model?\n",
    "\n",
    "Create a file named evaluate.py that contains the following functions.\n",
    "\n",
    "plot_residuals(y, yhat): creates a residual plot\n",
    "regression_errors(y, yhat): returns the following values:\n",
    "sum of squared errors (SSE)\n",
    "explained sum of squares (ESS)\n",
    "total sum of squares (TSS)\n",
    "mean squared error (MSE)\n",
    "root mean squared error (RMSE)\n",
    "baseline_mean_errors(y): computes the SSE, MSE, and RMSE for the baseline model\n",
    "better_than_baseline(y, yhat): returns true if your model performs better than the baseline, otherwise false\n",
    "Bonus Exercises\n",
    "\n"
   ]
  },
  {
   "cell_type": "code",
   "execution_count": null,
   "id": "80bb9ac5",
   "metadata": {},
   "outputs": [],
   "source": []
  },
  {
   "cell_type": "code",
   "execution_count": null,
   "id": "64f76b5f",
   "metadata": {},
   "outputs": [],
   "source": []
  },
  {
   "cell_type": "code",
   "execution_count": null,
   "id": "05405d71",
   "metadata": {},
   "outputs": [],
   "source": []
  }
 ],
 "metadata": {
  "kernelspec": {
   "display_name": "Python 3 (ipykernel)",
   "language": "python",
   "name": "python3"
  },
  "language_info": {
   "codemirror_mode": {
    "name": "ipython",
    "version": 3
   },
   "file_extension": ".py",
   "mimetype": "text/x-python",
   "name": "python",
   "nbconvert_exporter": "python",
   "pygments_lexer": "ipython3",
   "version": "3.9.7"
  }
 },
 "nbformat": 4,
 "nbformat_minor": 5
}
